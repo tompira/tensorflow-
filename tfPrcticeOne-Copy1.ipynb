{
 "cells": [
  {
   "cell_type": "code",
   "execution_count": 23,
   "metadata": {
    "scrolled": true
   },
   "outputs": [
    {
     "data": {
      "image/png": "[encoded data removed]",
      "text/plain": [
       "<matplotlib.figure.Figure at 0x29e130e208>"
      ]
     },
     "metadata": {},
     "output_type": "display_data"
    },
    {
     "name": "stdout",
     "output_type": "stream",
     "text": [
      "classified: \n",
      "[ True  True  True  True  True  True  True  True  True  True]\n",
      "\n",
      "output probability: \n",
      "[[  9.98682678e-01   1.31731527e-03   2.58784910e-10]\n",
      " [  3.43130948e-03   9.69049275e-01   2.75194254e-02]\n",
      " [  9.69157398e-01   3.08425445e-02   5.09097688e-08]\n",
      " [  1.93514787e-02   9.70684528e-01   9.96400509e-03]\n",
      " [  4.12158085e-09   8.59103166e-03   9.91409004e-01]\n",
      " [  1.71545204e-02   9.76335824e-01   6.50969939e-03]\n",
      " [  2.30860678e-07   4.24577259e-02   9.57542002e-01]\n",
      " [  7.25345686e-08   8.87839682e-03   9.91121531e-01]\n",
      " [  8.43027297e-12   1.41838231e-04   9.99858141e-01]\n",
      " [  9.95894194e-01   4.10580169e-03   2.68717937e-09]]\n"
     ]
    }
   ],
   "source": [
    "# multiple output single layer perceptorons\n",
    "import tensorflow as tf\n",
    "import numpy as np\n",
    "import matplotlib.pyplot as plt\n",
    "from sklearn.utils import shuffle\n",
    "\n",
    "np.random.seed(0)\n",
    "tf.set_random_seed(0)\n",
    "\n",
    "M=2\n",
    "K=3\n",
    "n=100\n",
    "N=n*K\n",
    "\n",
    "X1=np.random.randn(n, M)+np.array([0,10])\n",
    "X2=np.random.randn(n, M)+np.array([5,5])\n",
    "X3=np.random.randn(n, M)+np.array([10,0])\n",
    "Y1=np.array([[1,0,0] for i in range(n)])\n",
    "Y2=np.array([[0,1,0] for i in range(n)])\n",
    "Y3=np.array([[0,0,1] for i in range(n)])\n",
    "\n",
    "\n",
    "X=np.concatenate((X1,X2,X3),axis=0)\n",
    "Y=np.concatenate((Y1,Y2,Y3),axis=0)\n",
    "\n",
    "line = plt.figure()\n",
    "\n",
    "plt.scatter (X[:,0], X[:,1])\n",
    "plt.show()\n",
    "\n",
    "# definition of perceptoron\n",
    "\n",
    "W=tf.Variable(tf.zeros([M,K]))\n",
    "b=tf.Variable(tf.zeros([K]))\n",
    "\n",
    "x=tf.placeholder(tf.float32,shape=[None,M])\n",
    "t=tf.placeholder(tf.float32,shape=[None,K])\n",
    "y=tf.nn.softmax(tf.matmul(x,W)+b)\n",
    "\n",
    "cross_entropy=tf.reduce_mean(-tf.reduce_sum(t*tf.log(y),axis=1))\n",
    "train_step=tf.train.GradientDescentOptimizer(0.1).minimize(cross_entropy)\n",
    "correct_prediction=tf.equal(tf.argmax(y,1),tf.argmax(t,1))\n",
    "\n",
    "#cross_entropy = tf.reduce_mean(-tf.reduce_sum(t * tf.log(y), axis=1))\n",
    "#train_step = tf.train.GradientDescentOptimizer(0.1).minimize(cross_entropy)\n",
    "#correct_prediction = tf.equal(tf.argmax(y, 1), tf.argmax(t, 1))\n",
    "\n",
    "batch_size=50\n",
    "n_batches=N\n",
    "\n",
    "init=tf.global_variables_initializer()\n",
    "sess=tf.Session()\n",
    "sess.run(init)\n",
    "\n",
    "for epoch in range(20):\n",
    "    X_, Y_=shuffle(X,Y)\n",
    "    \n",
    "    for i in range(n_batches):\n",
    "        start=i*batch_size\n",
    "        end=start+batch_size\n",
    "        \n",
    "        sess.run(train_step, feed_dict={\n",
    "            x: X_[start:end],\n",
    "            t: Y_[start:end]\n",
    "        })\n",
    "\n",
    "X_, Y_=shuffle(X,Y)\n",
    "classified=correct_prediction.eval(session=sess,feed_dict={\n",
    "    x:X_[0:10],\n",
    "    t:Y_[0:10]\n",
    "})\n",
    "\n",
    "prob=y.eval(session=sess, feed_dict={\n",
    "    x: X_[0:10]\n",
    "})\n",
    "\n",
    "print('classified: ')\n",
    "print(classified)\n",
    "print()\n",
    "print('output probability: ')\n",
    "print(prob)\n"
   ]
  },
  {
   "cell_type": "code",
   "execution_count": null,
   "metadata": {
    "collapsed": true
   },
   "outputs": [],
   "source": []
  }
 ],
 "metadata": {
  "kernelspec": {
   "display_name": "Python 3",
   "language": "python",
   "name": "python3"
  },
  "language_info": {
   "codemirror_mode": {
    "name": "ipython",
    "version": 3
   },
   "file_extension": ".py",
   "mimetype": "text/x-python",
   "name": "python",
   "nbconvert_exporter": "python",
   "pygments_lexer": "ipython3",
   "version": "3.6.2"
  }
 },
 "nbformat": 4,
 "nbformat_minor": 2
}
